{
 "cells": [
  {
   "cell_type": "code",
   "execution_count": 1,
   "id": "eb569cd8",
   "metadata": {
    "_cell_guid": "b1076dfc-b9ad-4769-8c92-a6c4dae69d19",
    "_uuid": "8f2839f25d086af736a60e9eeb907d3b93b6e0e5",
    "execution": {
     "iopub.execute_input": "2023-01-15T20:36:51.936237Z",
     "iopub.status.busy": "2023-01-15T20:36:51.935813Z",
     "iopub.status.idle": "2023-01-15T20:36:58.659614Z",
     "shell.execute_reply": "2023-01-15T20:36:58.658607Z"
    },
    "papermill": {
     "duration": 6.732873,
     "end_time": "2023-01-15T20:36:58.662158",
     "exception": false,
     "start_time": "2023-01-15T20:36:51.929285",
     "status": "completed"
    },
    "tags": []
   },
   "outputs": [],
   "source": [
    "import pandas as pd\n",
    "import matplotlib.pyplot as plt\n",
    "import tensorflow as tf\n",
    "import numpy as np\n",
    "from tensorflow import keras\n",
    "from tensorflow.keras import Sequential\n",
    "from tensorflow.keras import layers,models\n",
    "from tensorflow.keras.layers import Dense,Conv2D,Flatten,AveragePooling2D\n",
    "from tensorflow.keras.optimizers import SGD\n",
    "from sklearn.metrics import ConfusionMatrixDisplay\n",
    "from sklearn.metrics import classification_report,confusion_matrix"
   ]
  },
  {
   "cell_type": "code",
   "execution_count": 2,
   "id": "64626fb7",
   "metadata": {
    "execution": {
     "iopub.execute_input": "2023-01-15T20:36:58.671618Z",
     "iopub.status.busy": "2023-01-15T20:36:58.670635Z",
     "iopub.status.idle": "2023-01-15T20:37:12.710102Z",
     "shell.execute_reply": "2023-01-15T20:37:12.709011Z"
    },
    "papermill": {
     "duration": 14.047126,
     "end_time": "2023-01-15T20:37:12.712953",
     "exception": false,
     "start_time": "2023-01-15T20:36:58.665827",
     "status": "completed"
    },
    "tags": []
   },
   "outputs": [
    {
     "name": "stdout",
     "output_type": "stream",
     "text": [
      "Downloading data from https://www.cs.toronto.edu/~kriz/cifar-10-python.tar.gz\n",
      "170500096/170498071 [==============================] - 11s 0us/step\n",
      "170508288/170498071 [==============================] - 11s 0us/step\n"
     ]
    }
   ],
   "source": [
    "(X_train, Y_train), (X_test, Y_test) = keras.datasets.cifar10.load_data()"
   ]
  },
  {
   "cell_type": "code",
   "execution_count": 3,
   "id": "e64759b4",
   "metadata": {
    "execution": {
     "iopub.execute_input": "2023-01-15T20:37:12.738318Z",
     "iopub.status.busy": "2023-01-15T20:37:12.737827Z",
     "iopub.status.idle": "2023-01-15T20:37:12.743539Z",
     "shell.execute_reply": "2023-01-15T20:37:12.742292Z"
    },
    "papermill": {
     "duration": 0.020941,
     "end_time": "2023-01-15T20:37:12.746109",
     "exception": false,
     "start_time": "2023-01-15T20:37:12.725168",
     "status": "completed"
    },
    "tags": []
   },
   "outputs": [],
   "source": [
    "Y_test = Y_test.reshape(-1,)\n",
    "Y_train = Y_train.reshape(-1,)"
   ]
  },
  {
   "cell_type": "code",
   "execution_count": 4,
   "id": "b5f7e548",
   "metadata": {
    "execution": {
     "iopub.execute_input": "2023-01-15T20:37:12.770186Z",
     "iopub.status.busy": "2023-01-15T20:37:12.769785Z",
     "iopub.status.idle": "2023-01-15T20:37:12.990670Z",
     "shell.execute_reply": "2023-01-15T20:37:12.989559Z"
    },
    "papermill": {
     "duration": 0.235647,
     "end_time": "2023-01-15T20:37:12.993021",
     "exception": false,
     "start_time": "2023-01-15T20:37:12.757374",
     "status": "completed"
    },
    "tags": []
   },
   "outputs": [
    {
     "data": {
      "image/png": "[encoded data removed]",
      "text/plain": [
       "<Figure size 432x288 with 1 Axes>"
      ]
     },
     "metadata": {
      "needs_background": "light"
     },
     "output_type": "display_data"
    }
   ],
   "source": [
    "plt.imshow(X_train[98])\n",
    "plt.show()"
   ]
  },
  {
   "cell_type": "code",
   "execution_count": 5,
   "id": "c5142664",
   "metadata": {
    "execution": {
     "iopub.execute_input": "2023-01-15T20:37:13.018452Z",
     "iopub.status.busy": "2023-01-15T20:37:13.018071Z",
     "iopub.status.idle": "2023-01-15T20:37:13.718177Z",
     "shell.execute_reply": "2023-01-15T20:37:13.717176Z"
    },
    "papermill": {
     "duration": 0.715867,
     "end_time": "2023-01-15T20:37:13.720953",
     "exception": false,
     "start_time": "2023-01-15T20:37:13.005086",
     "status": "completed"
    },
    "tags": []
   },
   "outputs": [],
   "source": [
    "X_train = X_train/255.0\n",
    "X_test = X_test/255.0"
   ]
  },
  {
   "cell_type": "code",
   "execution_count": 6,
   "id": "f8bad5a3",
   "metadata": {
    "execution": {
     "iopub.execute_input": "2023-01-15T20:37:13.746615Z",
     "iopub.status.busy": "2023-01-15T20:37:13.746228Z",
     "iopub.status.idle": "2023-01-15T20:37:13.753386Z",
     "shell.execute_reply": "2023-01-15T20:37:13.752243Z"
    },
    "papermill": {
     "duration": 0.023145,
     "end_time": "2023-01-15T20:37:13.755600",
     "exception": false,
     "start_time": "2023-01-15T20:37:13.732455",
     "status": "completed"
    },
    "tags": []
   },
   "outputs": [
    {
     "data": {
      "text/plain": [
       "(50000, 32, 32, 3)"
      ]
     },
     "execution_count": 6,
     "metadata": {},
     "output_type": "execute_result"
    }
   ],
   "source": [
    "X_train.shape"
   ]
  },
  {
   "cell_type": "code",
   "execution_count": 7,
   "id": "93a94cd1",
   "metadata": {
    "execution": {
     "iopub.execute_input": "2023-01-15T20:37:13.781011Z",
     "iopub.status.busy": "2023-01-15T20:37:13.780615Z",
     "iopub.status.idle": "2023-01-15T20:37:13.930416Z",
     "shell.execute_reply": "2023-01-15T20:37:13.929186Z"
    },
    "papermill": {
     "duration": 0.165656,
     "end_time": "2023-01-15T20:37:13.932872",
     "exception": false,
     "start_time": "2023-01-15T20:37:13.767216",
     "status": "completed"
    },
    "tags": []
   },
   "outputs": [
    {
     "name": "stderr",
     "output_type": "stream",
     "text": [
      "2023-01-15 20:37:13.818354: I tensorflow/core/common_runtime/process_util.cc:146] Creating new thread pool with default inter op setting: 2. Tune using inter_op_parallelism_threads for best performance.\n"
     ]
    }
   ],
   "source": [
    "model = Sequential()\n",
    "\n",
    "model.add(Conv2D(6, kernel_size=(5,5), padding='valid', activation='tanh', input_shape=(32,32,3)))\n",
    "model.add(AveragePooling2D(pool_size=(2,2), strides=2, padding='valid'))\n",
    "\n",
    "model.add(Conv2D(16, kernel_size=(5,5), padding='valid', activation='tanh'))\n",
    "model.add(AveragePooling2D(pool_size=(2,2), strides=2, padding='valid'))\n",
    "\n",
    "model.add(Flatten())\n",
    "\n",
    "model.add(Dense(120, activation='tanh'))\n",
    "model.add(Dense(84, activation='tanh'))\n",
    "model.add(Dense(10, activation='softmax'))\n",
    "\n"
   ]
  },
  {
   "cell_type": "code",
   "execution_count": 8,
   "id": "a007f585",
   "metadata": {
    "execution": {
     "iopub.execute_input": "2023-01-15T20:37:13.959688Z",
     "iopub.status.busy": "2023-01-15T20:37:13.959009Z",
     "iopub.status.idle": "2023-01-15T20:37:13.966578Z",
     "shell.execute_reply": "2023-01-15T20:37:13.965240Z"
    },
    "papermill": {
     "duration": 0.024402,
     "end_time": "2023-01-15T20:37:13.969015",
     "exception": false,
     "start_time": "2023-01-15T20:37:13.944613",
     "status": "completed"
    },
    "tags": []
   },
   "outputs": [
    {
     "name": "stdout",
     "output_type": "stream",
     "text": [
      "Model: \"sequential\"\n",
      "_________________________________________________________________\n",
      "Layer (type)                 Output Shape              Param #   \n",
      "=================================================================\n",
      "conv2d (Conv2D)              (None, 28, 28, 6)         456       \n",
      "_________________________________________________________________\n",
      "average_pooling2d (AveragePo (None, 14, 14, 6)         0         \n",
      "_________________________________________________________________\n",
      "conv2d_1 (Conv2D)            (None, 10, 10, 16)        2416      \n",
      "_________________________________________________________________\n",
      "average_pooling2d_1 (Average (None, 5, 5, 16)          0         \n",
      "_________________________________________________________________\n",
      "flatten (Flatten)            (None, 400)               0         \n",
      "_________________________________________________________________\n",
      "dense (Dense)                (None, 120)               48120     \n",
      "_________________________________________________________________\n",
      "dense_1 (Dense)              (None, 84)                10164     \n",
      "_________________________________________________________________\n",
      "dense_2 (Dense)              (None, 10)                850       \n",
      "=================================================================\n",
      "Total params: 62,006\n",
      "Trainable params: 62,006\n",
      "Non-trainable params: 0\n",
      "_________________________________________________________________\n"
     ]
    }
   ],
   "source": [
    "model.summary()"
   ]
  },
  {
   "cell_type": "code",
   "execution_count": 9,
   "id": "5fd2fa33",
   "metadata": {
    "execution": {
     "iopub.execute_input": "2023-01-15T20:37:13.994692Z",
     "iopub.status.busy": "2023-01-15T20:37:13.993517Z",
     "iopub.status.idle": "2023-01-15T20:37:14.007116Z",
     "shell.execute_reply": "2023-01-15T20:37:14.006236Z"
    },
    "papermill": {
     "duration": 0.028579,
     "end_time": "2023-01-15T20:37:14.009357",
     "exception": false,
     "start_time": "2023-01-15T20:37:13.980778",
     "status": "completed"
    },
    "tags": []
   },
   "outputs": [],
   "source": [
    "model.compile(optimizer='SGD', loss=keras.losses.sparse_categorical_crossentropy, metrics=['accuracy'])"
   ]
  },
  {
   "cell_type": "code",
   "execution_count": 10,
   "id": "751fda9a",
   "metadata": {
    "execution": {
     "iopub.execute_input": "2023-01-15T20:37:14.034339Z",
     "iopub.status.busy": "2023-01-15T20:37:14.033536Z",
     "iopub.status.idle": "2023-01-15T20:56:26.793465Z",
     "shell.execute_reply": "2023-01-15T20:56:26.792380Z"
    },
    "papermill": {
     "duration": 1152.775555,
     "end_time": "2023-01-15T20:56:26.796453",
     "exception": false,
     "start_time": "2023-01-15T20:37:14.020898",
     "status": "completed"
    },
    "tags": []
   },
   "outputs": [
    {
     "name": "stderr",
     "output_type": "stream",
     "text": [
      "2023-01-15 20:37:15.557600: I tensorflow/compiler/mlir/mlir_graph_optimization_pass.cc:185] None of the MLIR Optimization Passes are enabled (registered 2)\n"
     ]
    },
    {
     "name": "stdout",
     "output_type": "stream",
     "text": [
      "Epoch 1/100\n",
      "1563/1563 [==============================] - 13s 8ms/step - loss: 1.9245 - accuracy: 0.3084 - val_loss: 1.8118 - val_accuracy: 0.3511\n",
      "Epoch 2/100\n",
      "1563/1563 [==============================] - 11s 7ms/step - loss: 1.7296 - accuracy: 0.3886 - val_loss: 1.6663 - val_accuracy: 0.4079\n",
      "Epoch 3/100\n",
      "1563/1563 [==============================] - 11s 7ms/step - loss: 1.6303 - accuracy: 0.4215 - val_loss: 1.5807 - val_accuracy: 0.4350\n",
      "Epoch 4/100\n",
      "1563/1563 [==============================] - 11s 7ms/step - loss: 1.5522 - accuracy: 0.4452 - val_loss: 1.5347 - val_accuracy: 0.4461\n",
      "Epoch 5/100\n",
      "1563/1563 [==============================] - 11s 7ms/step - loss: 1.4829 - accuracy: 0.4678 - val_loss: 1.4684 - val_accuracy: 0.4738\n",
      "Epoch 6/100\n",
      "1563/1563 [==============================] - 11s 7ms/step - loss: 1.4304 - accuracy: 0.4885 - val_loss: 1.4486 - val_accuracy: 0.4789\n",
      "Epoch 7/100\n",
      "1563/1563 [==============================] - 11s 7ms/step - loss: 1.3881 - accuracy: 0.5028 - val_loss: 1.4520 - val_accuracy: 0.4876\n",
      "Epoch 8/100\n",
      "1563/1563 [==============================] - 11s 7ms/step - loss: 1.3520 - accuracy: 0.5158 - val_loss: 1.4042 - val_accuracy: 0.5025\n",
      "Epoch 9/100\n",
      "1563/1563 [==============================] - 12s 7ms/step - loss: 1.3229 - accuracy: 0.5289 - val_loss: 1.3409 - val_accuracy: 0.5180\n",
      "Epoch 10/100\n",
      "1563/1563 [==============================] - 11s 7ms/step - loss: 1.2963 - accuracy: 0.5403 - val_loss: 1.3526 - val_accuracy: 0.5112\n",
      "Epoch 11/100\n",
      "1563/1563 [==============================] - 11s 7ms/step - loss: 1.2707 - accuracy: 0.5493 - val_loss: 1.3439 - val_accuracy: 0.5269\n",
      "Epoch 12/100\n",
      "1563/1563 [==============================] - 12s 7ms/step - loss: 1.2488 - accuracy: 0.5557 - val_loss: 1.2949 - val_accuracy: 0.5366\n",
      "Epoch 13/100\n",
      "1563/1563 [==============================] - 11s 7ms/step - loss: 1.2260 - accuracy: 0.5633 - val_loss: 1.2693 - val_accuracy: 0.5462\n",
      "Epoch 14/100\n",
      "1563/1563 [==============================] - 11s 7ms/step - loss: 1.2063 - accuracy: 0.5709 - val_loss: 1.2686 - val_accuracy: 0.5498\n",
      "Epoch 15/100\n",
      "1563/1563 [==============================] - 12s 8ms/step - loss: 1.1888 - accuracy: 0.5782 - val_loss: 1.2604 - val_accuracy: 0.5450\n",
      "Epoch 16/100\n",
      "1563/1563 [==============================] - 11s 7ms/step - loss: 1.1710 - accuracy: 0.5840 - val_loss: 1.2904 - val_accuracy: 0.5426\n",
      "Epoch 17/100\n",
      "1563/1563 [==============================] - 11s 7ms/step - loss: 1.1532 - accuracy: 0.5920 - val_loss: 1.2490 - val_accuracy: 0.5558\n",
      "Epoch 18/100\n",
      "1563/1563 [==============================] - 12s 8ms/step - loss: 1.1366 - accuracy: 0.5964 - val_loss: 1.2495 - val_accuracy: 0.5546\n",
      "Epoch 19/100\n",
      "1563/1563 [==============================] - 11s 7ms/step - loss: 1.1226 - accuracy: 0.6027 - val_loss: 1.2386 - val_accuracy: 0.5586\n",
      "Epoch 20/100\n",
      "1563/1563 [==============================] - 12s 7ms/step - loss: 1.1071 - accuracy: 0.6064 - val_loss: 1.2268 - val_accuracy: 0.5664\n",
      "Epoch 21/100\n",
      "1563/1563 [==============================] - 11s 7ms/step - loss: 1.0918 - accuracy: 0.6140 - val_loss: 1.2081 - val_accuracy: 0.5684\n",
      "Epoch 22/100\n",
      "1563/1563 [==============================] - 11s 7ms/step - loss: 1.0779 - accuracy: 0.6177 - val_loss: 1.2106 - val_accuracy: 0.5726\n",
      "Epoch 23/100\n",
      "1563/1563 [==============================] - 12s 8ms/step - loss: 1.0635 - accuracy: 0.6242 - val_loss: 1.2213 - val_accuracy: 0.5643\n",
      "Epoch 24/100\n",
      "1563/1563 [==============================] - 11s 7ms/step - loss: 1.0516 - accuracy: 0.6271 - val_loss: 1.2150 - val_accuracy: 0.5710\n",
      "Epoch 25/100\n",
      "1563/1563 [==============================] - 11s 7ms/step - loss: 1.0393 - accuracy: 0.6332 - val_loss: 1.2266 - val_accuracy: 0.5733\n",
      "Epoch 26/100\n",
      "1563/1563 [==============================] - 12s 7ms/step - loss: 1.0264 - accuracy: 0.6386 - val_loss: 1.1904 - val_accuracy: 0.5795\n",
      "Epoch 27/100\n",
      "1563/1563 [==============================] - 11s 7ms/step - loss: 1.0138 - accuracy: 0.6431 - val_loss: 1.1998 - val_accuracy: 0.5765\n",
      "Epoch 28/100\n",
      "1563/1563 [==============================] - 11s 7ms/step - loss: 1.0024 - accuracy: 0.6434 - val_loss: 1.2010 - val_accuracy: 0.5714\n",
      "Epoch 29/100\n",
      "1563/1563 [==============================] - 12s 8ms/step - loss: 0.9907 - accuracy: 0.6507 - val_loss: 1.2333 - val_accuracy: 0.5653\n",
      "Epoch 30/100\n",
      "1563/1563 [==============================] - 11s 7ms/step - loss: 0.9792 - accuracy: 0.6532 - val_loss: 1.2459 - val_accuracy: 0.5750\n",
      "Epoch 31/100\n",
      "1563/1563 [==============================] - 11s 7ms/step - loss: 0.9701 - accuracy: 0.6575 - val_loss: 1.2242 - val_accuracy: 0.5725\n",
      "Epoch 32/100\n",
      "1563/1563 [==============================] - 11s 7ms/step - loss: 0.9593 - accuracy: 0.6609 - val_loss: 1.2121 - val_accuracy: 0.5707\n",
      "Epoch 33/100\n",
      "1563/1563 [==============================] - 11s 7ms/step - loss: 0.9465 - accuracy: 0.6658 - val_loss: 1.2126 - val_accuracy: 0.5755\n",
      "Epoch 34/100\n",
      "1563/1563 [==============================] - 11s 7ms/step - loss: 0.9350 - accuracy: 0.6697 - val_loss: 1.2035 - val_accuracy: 0.5797\n",
      "Epoch 35/100\n",
      "1563/1563 [==============================] - 11s 7ms/step - loss: 0.9269 - accuracy: 0.6711 - val_loss: 1.1993 - val_accuracy: 0.5839\n",
      "Epoch 36/100\n",
      "1563/1563 [==============================] - 11s 7ms/step - loss: 0.9158 - accuracy: 0.6767 - val_loss: 1.2108 - val_accuracy: 0.5827\n",
      "Epoch 37/100\n",
      "1563/1563 [==============================] - 12s 8ms/step - loss: 0.9056 - accuracy: 0.6795 - val_loss: 1.2155 - val_accuracy: 0.5861\n",
      "Epoch 38/100\n",
      "1563/1563 [==============================] - 11s 7ms/step - loss: 0.8964 - accuracy: 0.6854 - val_loss: 1.2161 - val_accuracy: 0.5821\n",
      "Epoch 39/100\n",
      "1563/1563 [==============================] - 11s 7ms/step - loss: 0.8865 - accuracy: 0.6864 - val_loss: 1.2018 - val_accuracy: 0.5860\n",
      "Epoch 40/100\n",
      "1563/1563 [==============================] - 12s 8ms/step - loss: 0.8779 - accuracy: 0.6901 - val_loss: 1.1984 - val_accuracy: 0.5870\n",
      "Epoch 41/100\n",
      "1563/1563 [==============================] - 11s 7ms/step - loss: 0.8687 - accuracy: 0.6949 - val_loss: 1.2298 - val_accuracy: 0.5763\n",
      "Epoch 42/100\n",
      "1563/1563 [==============================] - 11s 7ms/step - loss: 0.8601 - accuracy: 0.6950 - val_loss: 1.2195 - val_accuracy: 0.5825\n",
      "Epoch 43/100\n",
      "1563/1563 [==============================] - 12s 8ms/step - loss: 0.8511 - accuracy: 0.6981 - val_loss: 1.2079 - val_accuracy: 0.5849\n",
      "Epoch 44/100\n",
      "1563/1563 [==============================] - 11s 7ms/step - loss: 0.8391 - accuracy: 0.7051 - val_loss: 1.2272 - val_accuracy: 0.5816\n",
      "Epoch 45/100\n",
      "1563/1563 [==============================] - 12s 8ms/step - loss: 0.8325 - accuracy: 0.7073 - val_loss: 1.2363 - val_accuracy: 0.5823\n",
      "Epoch 46/100\n",
      "1563/1563 [==============================] - 11s 7ms/step - loss: 0.8216 - accuracy: 0.7098 - val_loss: 1.2914 - val_accuracy: 0.5728\n",
      "Epoch 47/100\n",
      "1563/1563 [==============================] - 11s 7ms/step - loss: 0.8149 - accuracy: 0.7130 - val_loss: 1.2546 - val_accuracy: 0.5822\n",
      "Epoch 48/100\n",
      "1563/1563 [==============================] - 12s 8ms/step - loss: 0.8075 - accuracy: 0.7149 - val_loss: 1.2683 - val_accuracy: 0.5784\n",
      "Epoch 49/100\n",
      "1563/1563 [==============================] - 12s 7ms/step - loss: 0.7969 - accuracy: 0.7185 - val_loss: 1.2656 - val_accuracy: 0.5783\n",
      "Epoch 50/100\n",
      "1563/1563 [==============================] - 12s 8ms/step - loss: 0.7881 - accuracy: 0.7230 - val_loss: 1.2655 - val_accuracy: 0.5790\n",
      "Epoch 51/100\n",
      "1563/1563 [==============================] - 12s 8ms/step - loss: 0.7785 - accuracy: 0.7267 - val_loss: 1.2812 - val_accuracy: 0.5758\n",
      "Epoch 52/100\n",
      "1563/1563 [==============================] - 11s 7ms/step - loss: 0.7712 - accuracy: 0.7298 - val_loss: 1.3001 - val_accuracy: 0.5763\n",
      "Epoch 53/100\n",
      "1563/1563 [==============================] - 12s 7ms/step - loss: 0.7626 - accuracy: 0.7321 - val_loss: 1.2871 - val_accuracy: 0.5793\n",
      "Epoch 54/100\n",
      "1563/1563 [==============================] - 12s 7ms/step - loss: 0.7561 - accuracy: 0.7356 - val_loss: 1.2964 - val_accuracy: 0.5772\n",
      "Epoch 55/100\n",
      "1563/1563 [==============================] - 11s 7ms/step - loss: 0.7461 - accuracy: 0.7382 - val_loss: 1.3330 - val_accuracy: 0.5728\n",
      "Epoch 56/100\n",
      "1563/1563 [==============================] - 12s 8ms/step - loss: 0.7388 - accuracy: 0.7423 - val_loss: 1.3263 - val_accuracy: 0.5727\n",
      "Epoch 57/100\n",
      "1563/1563 [==============================] - 11s 7ms/step - loss: 0.7310 - accuracy: 0.7441 - val_loss: 1.3406 - val_accuracy: 0.5716\n",
      "Epoch 58/100\n",
      "1563/1563 [==============================] - 12s 8ms/step - loss: 0.7214 - accuracy: 0.7469 - val_loss: 1.3427 - val_accuracy: 0.5700\n",
      "Epoch 59/100\n",
      "1563/1563 [==============================] - 12s 8ms/step - loss: 0.7152 - accuracy: 0.7492 - val_loss: 1.3069 - val_accuracy: 0.5806\n",
      "Epoch 60/100\n",
      "1563/1563 [==============================] - 11s 7ms/step - loss: 0.7069 - accuracy: 0.7520 - val_loss: 1.3498 - val_accuracy: 0.5733\n",
      "Epoch 61/100\n",
      "1563/1563 [==============================] - 11s 7ms/step - loss: 0.7011 - accuracy: 0.7543 - val_loss: 1.3599 - val_accuracy: 0.5716\n",
      "Epoch 62/100\n",
      "1563/1563 [==============================] - 12s 8ms/step - loss: 0.6904 - accuracy: 0.7598 - val_loss: 1.3526 - val_accuracy: 0.5677\n",
      "Epoch 63/100\n",
      "1563/1563 [==============================] - 12s 7ms/step - loss: 0.6826 - accuracy: 0.7616 - val_loss: 1.3637 - val_accuracy: 0.5715\n",
      "Epoch 64/100\n",
      "1563/1563 [==============================] - 12s 8ms/step - loss: 0.6772 - accuracy: 0.7641 - val_loss: 1.4138 - val_accuracy: 0.5658\n",
      "Epoch 65/100\n",
      "1563/1563 [==============================] - 11s 7ms/step - loss: 0.6677 - accuracy: 0.7670 - val_loss: 1.3685 - val_accuracy: 0.5686\n",
      "Epoch 66/100\n",
      "1563/1563 [==============================] - 11s 7ms/step - loss: 0.6590 - accuracy: 0.7702 - val_loss: 1.3900 - val_accuracy: 0.5675\n",
      "Epoch 67/100\n",
      "1563/1563 [==============================] - 12s 8ms/step - loss: 0.6528 - accuracy: 0.7727 - val_loss: 1.4134 - val_accuracy: 0.5668\n",
      "Epoch 68/100\n",
      "1563/1563 [==============================] - 11s 7ms/step - loss: 0.6451 - accuracy: 0.7752 - val_loss: 1.3952 - val_accuracy: 0.5729\n",
      "Epoch 69/100\n",
      "1563/1563 [==============================] - 11s 7ms/step - loss: 0.6385 - accuracy: 0.7783 - val_loss: 1.4052 - val_accuracy: 0.5726\n",
      "Epoch 70/100\n",
      "1563/1563 [==============================] - 12s 8ms/step - loss: 0.6292 - accuracy: 0.7813 - val_loss: 1.4522 - val_accuracy: 0.5581\n",
      "Epoch 71/100\n",
      "1563/1563 [==============================] - 11s 7ms/step - loss: 0.6237 - accuracy: 0.7819 - val_loss: 1.4286 - val_accuracy: 0.5650\n",
      "Epoch 72/100\n",
      "1563/1563 [==============================] - 12s 8ms/step - loss: 0.6164 - accuracy: 0.7860 - val_loss: 1.4486 - val_accuracy: 0.5657\n",
      "Epoch 73/100\n",
      "1563/1563 [==============================] - 11s 7ms/step - loss: 0.6096 - accuracy: 0.7881 - val_loss: 1.4446 - val_accuracy: 0.5657\n",
      "Epoch 74/100\n",
      "1563/1563 [==============================] - 11s 7ms/step - loss: 0.6036 - accuracy: 0.7905 - val_loss: 1.4720 - val_accuracy: 0.5542\n",
      "Epoch 75/100\n",
      "1563/1563 [==============================] - 13s 8ms/step - loss: 0.5947 - accuracy: 0.7917 - val_loss: 1.4583 - val_accuracy: 0.5650\n",
      "Epoch 76/100\n",
      "1563/1563 [==============================] - 12s 7ms/step - loss: 0.5891 - accuracy: 0.7939 - val_loss: 1.5471 - val_accuracy: 0.5515\n",
      "Epoch 77/100\n",
      "1563/1563 [==============================] - 12s 8ms/step - loss: 0.5817 - accuracy: 0.7985 - val_loss: 1.4906 - val_accuracy: 0.5672\n",
      "Epoch 78/100\n",
      "1563/1563 [==============================] - 12s 8ms/step - loss: 0.5752 - accuracy: 0.8006 - val_loss: 1.4924 - val_accuracy: 0.5629\n",
      "Epoch 79/100\n",
      "1563/1563 [==============================] - 12s 8ms/step - loss: 0.5656 - accuracy: 0.8033 - val_loss: 1.4967 - val_accuracy: 0.5621\n",
      "Epoch 80/100\n",
      "1563/1563 [==============================] - 13s 8ms/step - loss: 0.5598 - accuracy: 0.8071 - val_loss: 1.5462 - val_accuracy: 0.5613\n",
      "Epoch 81/100\n",
      "1563/1563 [==============================] - 12s 7ms/step - loss: 0.5522 - accuracy: 0.8097 - val_loss: 1.5791 - val_accuracy: 0.5541\n",
      "Epoch 82/100\n",
      "1563/1563 [==============================] - 12s 7ms/step - loss: 0.5476 - accuracy: 0.8096 - val_loss: 1.5416 - val_accuracy: 0.5556\n",
      "Epoch 83/100\n",
      "1563/1563 [==============================] - 12s 8ms/step - loss: 0.5406 - accuracy: 0.8131 - val_loss: 1.5649 - val_accuracy: 0.5575\n",
      "Epoch 84/100\n",
      "1563/1563 [==============================] - 11s 7ms/step - loss: 0.5326 - accuracy: 0.8181 - val_loss: 1.5712 - val_accuracy: 0.5621\n",
      "Epoch 85/100\n",
      "1563/1563 [==============================] - 12s 7ms/step - loss: 0.5258 - accuracy: 0.8196 - val_loss: 1.6122 - val_accuracy: 0.5558\n",
      "Epoch 86/100\n",
      "1563/1563 [==============================] - 12s 8ms/step - loss: 0.5216 - accuracy: 0.8208 - val_loss: 1.6061 - val_accuracy: 0.5553\n",
      "Epoch 87/100\n",
      "1563/1563 [==============================] - 11s 7ms/step - loss: 0.5135 - accuracy: 0.8247 - val_loss: 1.5886 - val_accuracy: 0.5602\n",
      "Epoch 88/100\n",
      "1563/1563 [==============================] - 12s 8ms/step - loss: 0.5055 - accuracy: 0.8263 - val_loss: 1.6305 - val_accuracy: 0.5583\n",
      "Epoch 89/100\n",
      "1563/1563 [==============================] - 11s 7ms/step - loss: 0.5000 - accuracy: 0.8289 - val_loss: 1.6457 - val_accuracy: 0.5512\n",
      "Epoch 90/100\n",
      "1563/1563 [==============================] - 11s 7ms/step - loss: 0.4954 - accuracy: 0.8296 - val_loss: 1.6473 - val_accuracy: 0.5541\n",
      "Epoch 91/100\n",
      "1563/1563 [==============================] - 12s 8ms/step - loss: 0.4864 - accuracy: 0.8333 - val_loss: 1.6450 - val_accuracy: 0.5583\n",
      "Epoch 92/100\n",
      "1563/1563 [==============================] - 11s 7ms/step - loss: 0.4791 - accuracy: 0.8357 - val_loss: 1.7026 - val_accuracy: 0.5467\n",
      "Epoch 93/100\n",
      "1563/1563 [==============================] - 11s 7ms/step - loss: 0.4733 - accuracy: 0.8390 - val_loss: 1.6736 - val_accuracy: 0.5570\n",
      "Epoch 94/100\n",
      "1563/1563 [==============================] - 12s 8ms/step - loss: 0.4673 - accuracy: 0.8415 - val_loss: 1.6944 - val_accuracy: 0.5539\n",
      "Epoch 95/100\n",
      "1563/1563 [==============================] - 11s 7ms/step - loss: 0.4625 - accuracy: 0.8415 - val_loss: 1.6959 - val_accuracy: 0.5538\n",
      "Epoch 96/100\n",
      "1563/1563 [==============================] - 12s 8ms/step - loss: 0.4541 - accuracy: 0.8465 - val_loss: 1.7230 - val_accuracy: 0.5447\n",
      "Epoch 97/100\n",
      "1563/1563 [==============================] - 11s 7ms/step - loss: 0.4502 - accuracy: 0.8458 - val_loss: 1.7191 - val_accuracy: 0.5552\n",
      "Epoch 98/100\n",
      "1563/1563 [==============================] - 11s 7ms/step - loss: 0.4450 - accuracy: 0.8493 - val_loss: 1.7594 - val_accuracy: 0.5496\n",
      "Epoch 99/100\n",
      "1563/1563 [==============================] - 13s 8ms/step - loss: 0.4388 - accuracy: 0.8509 - val_loss: 1.7708 - val_accuracy: 0.5555\n",
      "Epoch 100/100\n",
      "1563/1563 [==============================] - 12s 7ms/step - loss: 0.4307 - accuracy: 0.8539 - val_loss: 1.7848 - val_accuracy: 0.5478\n"
     ]
    }
   ],
   "source": [
    "history = model.fit(X_train, Y_train, epochs=100, validation_data=(X_test, Y_test), verbose=1)\n"
   ]
  },
  {
   "cell_type": "code",
   "execution_count": 11,
   "id": "a21381c4",
   "metadata": {
    "execution": {
     "iopub.execute_input": "2023-01-15T20:56:29.346087Z",
     "iopub.status.busy": "2023-01-15T20:56:29.345362Z",
     "iopub.status.idle": "2023-01-15T20:56:29.787987Z",
     "shell.execute_reply": "2023-01-15T20:56:29.786864Z"
    },
    "papermill": {
     "duration": 1.68301,
     "end_time": "2023-01-15T20:56:29.790387",
     "exception": false,
     "start_time": "2023-01-15T20:56:28.107377",
     "status": "completed"
    },
    "tags": []
   },
   "outputs": [
    {
     "data": {
      "image/png": "[encoded data removed]",
      "text/plain": [
       "<Figure size 432x288 with 1 Axes>"
      ]
     },
     "metadata": {
      "needs_background": "light"
     },
     "output_type": "display_data"
    },
    {
     "data": {
      "image/png": "[encoded data removed]",
      "text/plain": [
       "<Figure size 432x288 with 1 Axes>"
      ]
     },
     "metadata": {
      "needs_background": "light"
     },
     "output_type": "display_data"
    }
   ],
   "source": [
    "plt.plot(history.history['accuracy'])\n",
    "plt.plot(history.history['val_accuracy'])\n",
    "plt.title(\"Accuracy by LeNet on CIFAR-10 Data\")\n",
    "plt.ylabel('Accuracy')\n",
    "plt.xlabel('Epochs')\n",
    "plt.legend(['Train', 'Validation'], loc='upper left')\n",
    "plt.show()\n",
    "# summarize history for loss\n",
    "plt.plot(history.history['loss'])\n",
    "plt.plot(history.history['val_loss'])\n",
    "plt.title('Loss by LeNet on CIFAR-10 Data')\n",
    "plt.ylabel('Loss')\n",
    "plt.xlabel('Epochs')\n",
    "plt.legend(['Train', 'Validation'])\n",
    "plt.show()\n"
   ]
  }
 ],
 "metadata": {
  "kernelspec": {
   "display_name": "Python 3",
   "language": "python",
   "name": "python3"
  },
  "language_info": {
   "codemirror_mode": {
    "name": "ipython",
    "version": 3
   },
   "file_extension": ".py",
   "mimetype": "text/x-python",
   "name": "python",
   "nbconvert_exporter": "python",
   "pygments_lexer": "ipython3",
   "version": "3.7.12"
  },
  "papermill": {
   "default_parameters": {},
   "duration": 1190.458779,
   "end_time": "2023-01-15T20:56:34.133788",
   "environment_variables": {},
   "exception": null,
   "input_path": "__notebook__.ipynb",
   "output_path": "__notebook__.ipynb",
   "parameters": {},
   "start_time": "2023-01-15T20:36:43.675009",
   "version": "2.3.4"
  }
 },
 "nbformat": 4,
 "nbformat_minor": 5
}
